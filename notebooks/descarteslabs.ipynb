{
 "cells": [
  {
   "cell_type": "markdown",
   "metadata": {},
   "source": [
    "# Getting started with Descartes Labs\n",
    "---"
   ]
  },
  {
   "cell_type": "markdown",
   "metadata": {},
   "source": [
    "## To create conda environment:\n",
    "* `conda create --name descarteslabs python=\"3.8\"`\n",
    "\n",
    "## To start conda environment:\n",
    "* In Anaconda3 Terminal:\n",
    "\n",
    "* `conda activate descarteslabs`\n",
    "* `conda install shapely`\n",
    "* `pip install descarteslabs`\n",
    "* `pip install jupyter`\n",
    "* `pip install jupyterlab`\n",
    "* `conda install -c anaconda ipykernel`\n",
    "* `python -m ipykernel install --user --name=\"descarteslabs\"`\n",
    "* `jupyter notebook`\n",
    "\n",
    "## To exit conda environment:\n",
    "* In Anaconda3 Terminal:\n",
    "\n",
    "* `conda deactivate`"
   ]
  },
  {
   "cell_type": "code",
   "execution_count": null,
   "metadata": {},
   "outputs": [],
   "source": []
  }
 ],
 "metadata": {
  "language_info": {
   "codemirror_mode": {
    "name": "ipython",
    "version": 3
   },
   "file_extension": ".py",
   "mimetype": "text/x-python",
   "name": "python",
   "nbconvert_exporter": "python",
   "pygments_lexer": "ipython3",
   "version": 3
  },
  "orig_nbformat": 2,
  "kernelspec": {
   "name": "python_defaultSpec_1611426831339",
   "display_name": "Python 3.9.0 64-bit"
  }
 },
 "nbformat": 4,
 "nbformat_minor": 2
}